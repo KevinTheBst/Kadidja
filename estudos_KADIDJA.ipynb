{
  "nbformat": 4,
  "nbformat_minor": 0,
  "metadata": {
    "colab": {
      "provenance": []
    },
    "kernelspec": {
      "name": "python3",
      "display_name": "Python 3"
    },
    "language_info": {
      "name": "python"
    }
  },
  "cells": [
    {
      "cell_type": "markdown",
      "source": [
        "# Listas e manipulação de listas\n"
      ],
      "metadata": {
        "id": "-TJJTZTK7LWh"
      }
    },
    {
      "cell_type": "code",
      "execution_count": null,
      "metadata": {
        "colab": {
          "base_uri": "https://localhost:8080/"
        },
        "id": "RDZ4csNZ5aDv",
        "outputId": "235d5e8d-05ea-402e-eb07-81da8cc6f990"
      },
      "outputs": [
        {
          "output_type": "stream",
          "name": "stdout",
          "text": [
            "['Esdras', 'Brenda', 'Maria', 'PH', 'lucas', 'Dos pode', 'Dos pode']\n",
            "['Esdras', 'Ema', 'Brenda', 'Maria', 'PH', 'lucas', 'Dos pode', 'Dos pode']\n",
            "['Esdras', 'Brenda', 'Maria', 'PH', 'lucas', 'Dos pode', 'Dos pode']\n",
            "['Esdras', 'Brenda', 'Maria', 'PH', 'lucas', 'Dos pode']\n",
            "Maria está na posição 2\n",
            "1\n",
            "['Brenda', 'Dos pode', 'Esdras', 'Maria', 'PH', 'lucas']\n",
            "['lucas', 'PH', 'Maria', 'Esdras', 'Dos pode', 'Brenda']\n",
            "['lucas', 'PH', 'Maria', 'Esdras', 'Dos pode', 'Brenda']\n",
            "[]\n"
          ]
        }
      ],
      "source": [
        "l = [] # Criando uma lista vazia\n",
        "\n",
        "l.append(\"Esdras\") # adicionando itens no final da lista com o método append\n",
        "l.append(\"Brenda\")\n",
        "l.append(\"Maria\")\n",
        "l.append(\"PH\")\n",
        "l.append(\"lucas\")\n",
        "l.append(\"Dos pode\")\n",
        "l.append(\"Dos pode\")\n",
        "print(l)\n",
        "\n",
        "l.insert(1, \"Ema\") # Utilizando o método insert para colocar um item em uma posição especifica\n",
        "print(l)\n",
        "\n",
        "l.remove(\"Ema\") # Utilizando o método remove para remover um item da lista\n",
        "print(l)\n",
        "\n",
        "l.pop() # Utilizando o método pop para remover o último item da lista\n",
        "print(l)\n",
        "\n",
        "indice = l.index(\"Maria\") # Método indice retorna a posição do elemento em questão na primeira ocorrência\n",
        "print(f\"Maria está na posição {indice}\")\n",
        "\n",
        "quantidade = l.count(\"Dos pode\") # Conta quantos elementos especificos tem nessa lista\n",
        "print(quantidade)\n",
        "\n",
        "l.sort() # Ordena a lista\n",
        "print(l)\n",
        "\n",
        "l.reverse() # Reverte a lista\n",
        "print(l)\n",
        "\n",
        "copia = l.copy() # Cria uma copia da lista\n",
        "print(copia)\n",
        "\n",
        "l.clear() # Remove todos os itens\n",
        "print(l)\n"
      ]
    },
    {
      "cell_type": "markdown",
      "source": [
        "# Praticando slice com listas"
      ],
      "metadata": {
        "id": "SF2C-Yjk7WA-"
      }
    },
    {
      "cell_type": "code",
      "source": [
        "carros = [\"Gol\", \"Sandero\", \"Palio\", \"lancer\"]\n",
        "print(carros)\n",
        "print(carros[1:])\n",
        "print(carros[::-1])"
      ],
      "metadata": {
        "colab": {
          "base_uri": "https://localhost:8080/"
        },
        "id": "bbgCcmUeHk8-",
        "outputId": "7fec8338-1bd7-430b-eb15-0286c52f4ed3"
      },
      "execution_count": null,
      "outputs": [
        {
          "output_type": "stream",
          "name": "stdout",
          "text": [
            "['Gol', 'Sandero', 'Palio', 'lancer']\n",
            "['Sandero', 'Palio', 'lancer']\n",
            "['lancer', 'Palio', 'Sandero', 'Gol']\n"
          ]
        }
      ]
    },
    {
      "cell_type": "markdown",
      "source": [
        "# Percorrendo listas"
      ],
      "metadata": {
        "id": "8Dq368c_7ax1"
      }
    },
    {
      "cell_type": "code",
      "source": [
        "eletronicos = [\"Notebook\", 'Drone', 'Iphone', 'TV', \"Tablet\"]\n",
        "\n",
        "for item in eletronicos:\n",
        "    print(item)"
      ],
      "metadata": {
        "colab": {
          "base_uri": "https://localhost:8080/"
        },
        "id": "cuh6cEBUIbAR",
        "outputId": "320d3f0a-ad8a-47a3-8b81-b8fa5214bf49"
      },
      "execution_count": null,
      "outputs": [
        {
          "output_type": "stream",
          "name": "stdout",
          "text": [
            "Notebook\n",
            "Drone\n",
            "Iphone\n",
            "TV\n",
            "Tablet\n"
          ]
        }
      ]
    },
    {
      "cell_type": "markdown",
      "source": [
        "# List Comprehension --> é uma forma compacta e eficiente de criar listas, simplificando a escrita de código e tornando-o mais legível.\n"
      ],
      "metadata": {
        "id": "1ClMEsFn7ipd"
      }
    },
    {
      "cell_type": "code",
      "source": [
        "lista = [1, 3, 5, 91, 8, 9, 6, 12]\n",
        "\n",
        "cauculo = [n ** 2 for n in lista if n % 2 == 0]  # Se perceber bem é a mesma coisa de fazer um for e uma condição, apenas esta comprimida dentro da lista\n",
        "print(cauculo)"
      ],
      "metadata": {
        "colab": {
          "base_uri": "https://localhost:8080/"
        },
        "id": "bzst5SblX5dE",
        "outputId": "987a70ff-96f7-4700-c9c8-052189b01458"
      },
      "execution_count": null,
      "outputs": [
        {
          "output_type": "stream",
          "name": "stdout",
          "text": [
            "[64, 36, 144]\n"
          ]
        }
      ]
    },
    {
      "cell_type": "markdown",
      "source": [
        "# Diferença entre Listas e tuplas\n",
        "\n",
        "\n",
        "\n",
        "# Listas são Mutaveis ou seja podem ser alteradas"
      ],
      "metadata": {
        "id": "KZfp3l6P7s1c"
      }
    },
    {
      "cell_type": "code",
      "source": [
        "frutas = [\"Maçã\", \"banana\", 'Uva', 23, 88, 1.89, True]\n",
        "print(frutas)\n",
        "\n",
        "frutas.append(\"Melancia\")\n",
        "print(frutas)\n",
        "\n",
        "posicao = frutas.index(23)\n",
        "print(f'o número 23 está na posição {posicao}')\n",
        "\n",
        "frutas[0] = 'Goiaba'\n",
        "print(frutas)"
      ],
      "metadata": {
        "colab": {
          "base_uri": "https://localhost:8080/"
        },
        "id": "RmbnBYbCfB-w",
        "outputId": "1db30359-54b4-445c-903e-05f0265a8e07"
      },
      "execution_count": null,
      "outputs": [
        {
          "output_type": "stream",
          "name": "stdout",
          "text": [
            "['Maçã', 'banana', 'Uva', 23, 88, 1.89, True]\n",
            "['Maçã', 'banana', 'Uva', 23, 88, 1.89, True, 'Melancia']\n",
            "o número 23 está na posição 3\n",
            "['Goiaba', 'banana', 'Uva', 23, 88, 1.89, True, 'Melancia']\n"
          ]
        }
      ]
    },
    {
      "cell_type": "markdown",
      "source": [
        "# Ao contrario de listas , tuplas são imutaveis elas não se alteram"
      ],
      "metadata": {
        "id": "H_7hBLk076q8"
      }
    },
    {
      "cell_type": "code",
      "source": [
        "filmes = (\"Coraline\", 'Sonic', 'Sherk')\n",
        "print(filmes)\n",
        "\n",
        "# filmes[0] = \"Madascar\"\n",
        "# print(filmes)   claramente dará um VALUEERROR\n",
        "\n",
        "# Porém ainda conseguimos vizualizar os dados dessa lista\n",
        "quantidade_filmes = len(filmes)\n",
        "print(f'Temos {quantidade_filmes} filmes nessa lista')"
      ],
      "metadata": {
        "colab": {
          "base_uri": "https://localhost:8080/"
        },
        "id": "QlNutNF5iA_Y",
        "outputId": "51d88f1f-376a-476b-db93-570ba822a9b2"
      },
      "execution_count": null,
      "outputs": [
        {
          "output_type": "stream",
          "name": "stdout",
          "text": [
            "('Coraline', 'Sonic', 'Sherk')\n",
            "Temos 3 filmes nessa lista\n"
          ]
        }
      ]
    },
    {
      "cell_type": "markdown",
      "source": [
        "# Funções\n",
        "\n",
        "# 1 - Função sem parâmetro e sem retorno"
      ],
      "metadata": {
        "id": "NLOwmIWk8HOT"
      }
    },
    {
      "cell_type": "code",
      "source": [
        "def recepcao():                           # Em funções sem parâmetro e sem retorno é a forma mais inicial de entender uma função\n",
        "    print('Olá mundo!')\n",
        "\n",
        "recepcao()\n",
        "recepcao()                     # Voce pode chamar a função quantas vezes quiser\n",
        "\n"
      ],
      "metadata": {
        "colab": {
          "base_uri": "https://localhost:8080/"
        },
        "id": "JLMgYsX68Tlb",
        "outputId": "fe142692-b34a-47b8-f82e-cec2a640f83f"
      },
      "execution_count": null,
      "outputs": [
        {
          "output_type": "stream",
          "name": "stdout",
          "text": [
            "Olá mundo!\n",
            "Olá mundo!\n"
          ]
        }
      ]
    },
    {
      "cell_type": "markdown",
      "source": [
        "# 2 - Função com passagem de parâmetro"
      ],
      "metadata": {
        "id": "p4KwdsqG9Aoy"
      }
    },
    {
      "cell_type": "code",
      "source": [
        "def mensagem(texto): # Como se fosse uma variavel sem atribuição de valor\n",
        "    print(texto) # o print é essencial para mostrar o resultado que você quer na função\n",
        "\n",
        "mensagem('Texto 1') # Quando se chama a função para mostrar o resultado, é como se colocasse um valor\n",
        "mensagem('Texto 2') # de atribuição para a variavel, que no caso é o parametro texto\n",
        "\n",
        "def somar(a, b): # Mesma coisa em funções de soma\n",
        "    print(a + b)\n",
        "\n",
        "somar(2, 3)\n",
        "somar(3, 3)"
      ],
      "metadata": {
        "colab": {
          "base_uri": "https://localhost:8080/"
        },
        "id": "1pjiHTOQ9G3j",
        "outputId": "96dc8fc6-0aa8-4028-e4c0-0a7939b2a9be"
      },
      "execution_count": null,
      "outputs": [
        {
          "output_type": "stream",
          "name": "stdout",
          "text": [
            "Texto 1\n",
            "Texto 2\n",
            "5\n",
            "6\n"
          ]
        }
      ]
    },
    {
      "cell_type": "markdown",
      "source": [
        "# 3 - Função com passagem de parâmetros e retorno"
      ],
      "metadata": {
        "id": "Gb9yxzbu9OOo"
      }
    },
    {
      "cell_type": "code",
      "source": [
        "''' A única diferença entre esse outro tipo de função é que se usa o return. Ao contrario do print ele vai retornar o que voce quer de resultado\n",
        "   e não vai printar como o print faz '''\n",
        "\n",
        "def multiplicacao(x, z):\n",
        "    return x * z\n",
        "\n",
        "resultado = multiplicacao(3, 3)  # E no resultado é convencional chamar a função dentro de uma variavel\n",
        "print(resultado)\n",
        "\n",
        "\n",
        "def cauculo_imc(p, h):    # P é o primeiro primeiro parâmetro que vai assumir o valor do peso da pessoa\n",
        "    return p / h ** 2     # H é o segundo parâmetro que vai assumir o valor de altura\n",
        "\n",
        "r = cauculo_imc(77, 1.74)\n",
        "print(f'O seu imc é de {r:.2f}')  # No resultado utilizei F string apenas para colocar duas casas decimais , mas poderia apenas colocar a variavel r não iria\n",
        "                                  # alterar em nada o resultado"
      ],
      "metadata": {
        "colab": {
          "base_uri": "https://localhost:8080/"
        },
        "id": "Bg9WiLpP9Unp",
        "outputId": "038ca407-3f8b-48af-d21a-db36d922081a"
      },
      "execution_count": null,
      "outputs": [
        {
          "output_type": "stream",
          "name": "stdout",
          "text": [
            "9\n",
            "O seu imc é de 25.43\n"
          ]
        }
      ]
    },
    {
      "cell_type": "markdown",
      "source": [
        "# Matrizes\n"
      ],
      "metadata": {
        "id": "IX_TlzIXFNfe"
      }
    },
    {
      "cell_type": "code",
      "source": [
        "import numpy as np  # importando a biblioteca numpy que é bastante utlizada em matrizes\n",
        "\n",
        "matriz = np.array([[2, 4, 5],\n",
        "                   [3, 5, 7]])  # matriz de 2 linhas e 3 colunas\n",
        "\n",
        "print(matriz)\n",
        "\n"
      ],
      "metadata": {
        "colab": {
          "base_uri": "https://localhost:8080/"
        },
        "id": "aCPJ5mk_FUtv",
        "outputId": "d891d1e0-8277-4778-a069-0d7e79226584"
      },
      "execution_count": null,
      "outputs": [
        {
          "output_type": "stream",
          "name": "stdout",
          "text": [
            "[[2 4 5]\n",
            " [3 5 7]]\n"
          ]
        }
      ]
    },
    {
      "cell_type": "markdown",
      "source": [
        "# Shape mostra o formato dessa matriz"
      ],
      "metadata": {
        "id": "sxyHwiprLtZd"
      }
    },
    {
      "cell_type": "code",
      "source": [
        "print(matriz.shape) # Como eu mostrei anteriormente 2 linhas por 3 colunas"
      ],
      "metadata": {
        "colab": {
          "base_uri": "https://localhost:8080/"
        },
        "id": "BUprQBSYLfww",
        "outputId": "fdd6b65b-07c0-4e69-f044-019ea1fd6873"
      },
      "execution_count": null,
      "outputs": [
        {
          "output_type": "stream",
          "name": "stdout",
          "text": [
            "(2, 3)\n"
          ]
        }
      ]
    },
    {
      "cell_type": "markdown",
      "source": [
        "# A seguir retornarei a linhas dessa matriz separadamente"
      ],
      "metadata": {
        "id": "p3VG9kTkNs-6"
      }
    },
    {
      "cell_type": "code",
      "source": [
        "print(matriz[0]) # Primeira linha , assim como em uma lista normal conseguimos achar determinado valor por indices"
      ],
      "metadata": {
        "colab": {
          "base_uri": "https://localhost:8080/"
        },
        "id": "GY9aOIxSN1mr",
        "outputId": "6dd987de-35d3-4848-f087-cb19f3782935"
      },
      "execution_count": null,
      "outputs": [
        {
          "output_type": "stream",
          "name": "stdout",
          "text": [
            "[2 4 5]\n"
          ]
        }
      ]
    },
    {
      "cell_type": "code",
      "source": [
        "print(matriz[1]) # segunda linha"
      ],
      "metadata": {
        "colab": {
          "base_uri": "https://localhost:8080/"
        },
        "id": "6psg0GPHOC7o",
        "outputId": "2475a851-7ede-45f6-c882-d4bb3de0b744"
      },
      "execution_count": null,
      "outputs": [
        {
          "output_type": "stream",
          "name": "stdout",
          "text": [
            "[3 5 7]\n"
          ]
        }
      ]
    },
    {
      "cell_type": "markdown",
      "source": [
        "# Retornando colunas\n"
      ],
      "metadata": {
        "id": "0DsGf8acOtUI"
      }
    },
    {
      "cell_type": "code",
      "source": [
        "# Para retornarmos colunas utilizaremos dois colchetes [][]\n",
        "\n",
        "print(matriz[0][0]) # Primeiro colchete vai a linha e o segundo vai a coluna"
      ],
      "metadata": {
        "colab": {
          "base_uri": "https://localhost:8080/"
        },
        "id": "FUA00ObEOzmP",
        "outputId": "c04af17b-6117-4deb-d44a-c17a04f39a7c"
      },
      "execution_count": null,
      "outputs": [
        {
          "output_type": "stream",
          "name": "stdout",
          "text": [
            "2\n"
          ]
        }
      ]
    },
    {
      "cell_type": "code",
      "source": [
        "print(matriz[1][2])"
      ],
      "metadata": {
        "colab": {
          "base_uri": "https://localhost:8080/"
        },
        "id": "NYW5D1p1Pro7",
        "outputId": "48728048-4c07-4ab4-f9f5-fa5fd45a78ec"
      },
      "execution_count": null,
      "outputs": [
        {
          "output_type": "stream",
          "name": "stdout",
          "text": [
            "7\n"
          ]
        }
      ]
    },
    {
      "cell_type": "markdown",
      "source": [
        "# Percorrendo Matrizes"
      ],
      "metadata": {
        "id": "VtFc5Yr_Qg96"
      }
    },
    {
      "cell_type": "code",
      "source": [
        "# Primeiro vamos precisar do formato dessa matriz , vamos usar o shape\n",
        "print(matriz.shape)  # resultado (2, 3) 2 linhas e 3 colunas\n",
        "                                # 0  1  posição\n",
        "separa = 25 * '-'   # Ignora isso rapaziada\n",
        "print(separa)\n",
        "\n",
        "# vamos utilizar o laço for , linhas está na posição 0 então vamos retornar elas\n",
        "for i in range(matriz.shape[0]):\n",
        "    print(matriz[i])\n",
        "    for j in range(matriz.shape[1]): # percorrer as colunas é a mesma ideia de antes dois [][] pra informar a linha e coluna\n",
        "        print(matriz[i][j])          # Não tem como acessar colunas sem as linhas\n",
        "\n",
        "\n",
        "\n",
        "\n",
        "\n",
        "''' Importante frizar sobre matrizes, utilizamos a biblioteca numpy e o metodo array para criar a matriz\n",
        "como pode se observar no primeiro codigo '''\n"
      ],
      "metadata": {
        "colab": {
          "base_uri": "https://localhost:8080/"
        },
        "id": "YN46Qk5pQps5",
        "outputId": "a24c3fb7-72b4-4964-ddd1-234ce9617c79"
      },
      "execution_count": null,
      "outputs": [
        {
          "output_type": "stream",
          "name": "stdout",
          "text": [
            "(2, 3)\n",
            "-------------------------\n",
            "[2 4 5]\n",
            "2\n",
            "4\n",
            "5\n",
            "[3 5 7]\n",
            "3\n",
            "5\n",
            "7\n"
          ]
        }
      ]
    },
    {
      "cell_type": "markdown",
      "source": [
        "#Vetor (Array)"
      ],
      "metadata": {
        "id": "-ikvTQ6tayj8"
      }
    },
    {
      "cell_type": "code",
      "source": [
        "\"\"\" Vetor é basicamente igual a lista, única diferença é que vetor voce so vai colocar um tipo de dado e o ARRAY ajuda nessa questão  \"\"\"\n",
        "\n",
        "import array # Importanto array\n",
        "\n",
        "numeros = array.array('i', [2, 3, 6, 8]) # 'i' especifiquei que vai ser um vetor so de números inteiros\n",
        "print(numeros)\n",
        "\n",
        "# O resto é igual a lista adiciono com append, removo com remove e assim por diante\n",
        "\n",
        "# POR EXEMPLO\n",
        "\n",
        "temperatura_no_tocantins = array.array('f', [40.5, 36.5, 46.0, 50.5]) # Todos os dados são float , e se tentar colocar outro dado que não seja float da ERRO\n",
        "print(temperatura_no_tocantins)\n",
        "\n",
        "print('Temperatura mais alta', temperatura_no_tocantins[3])"
      ],
      "metadata": {
        "colab": {
          "base_uri": "https://localhost:8080/"
        },
        "id": "lSmOMCXra-ih",
        "outputId": "98acd2ab-085a-4231-e064-ccc19a1a158d"
      },
      "execution_count": null,
      "outputs": [
        {
          "output_type": "stream",
          "name": "stdout",
          "text": [
            "array('i', [2, 3, 6, 8])\n",
            "array('f', [40.5, 36.5, 46.0, 50.5])\n",
            "Temperatura mais alta 50.5\n"
          ]
        }
      ]
    },
    {
      "cell_type": "code",
      "source": [
        "# Percorrendo o vetor, mesma coisa de matriz\n",
        "\n",
        "for t in temperatura_no_tocantins:\n",
        "    print(t)"
      ],
      "metadata": {
        "colab": {
          "base_uri": "https://localhost:8080/"
        },
        "id": "4-7iS5xEfoLt",
        "outputId": "804b7da8-e3e9-4c93-a3ad-fc19ae54ec88"
      },
      "execution_count": null,
      "outputs": [
        {
          "output_type": "stream",
          "name": "stdout",
          "text": [
            "40.5\n",
            "36.5\n",
            "46.0\n",
            "50.5\n"
          ]
        }
      ]
    },
    {
      "cell_type": "markdown",
      "source": [
        "# Pilhas"
      ],
      "metadata": {
        "id": "b7f_uMC-h5NX"
      }
    },
    {
      "cell_type": "code",
      "source": [
        "''' LIFO = Last In, First Out\n",
        "O último elemento que entra é o primeiro a sair''' # Mais fácil de entender do que fila\n",
        "\n",
        "\n",
        "\n",
        "pilha = [] # Criando lista vazia\n",
        "\n",
        "pilha.append(\"Esdras\") # adicionando elementos\n",
        "pilha.append(\"PH\")\n",
        "pilha.append(\"Neguim\")\n",
        "pilha.append(\"Renato\")\n",
        "pilha.append(\"Kevin\")\n",
        "pilha.append(\"Vitin Amador\")\n",
        "pilha.append(\"Dos Pode\")\n",
        "\n",
        "print(pilha)\n",
        "\n",
        "\n",
        "# agora vamos revomer o ultimo elemento pra entender que o ultimo que entrou é o primeiro a sair\n",
        "\n",
        "removendo_ultimo_elemento = pilha.pop()\n",
        "print(f'Ultimo elemento: {removendo_ultimo_elemento}') # vai me retornar o elemento que foi removido\n",
        "\n",
        "print(\"Pilha atualizada\")\n",
        "print(pilha) # Verificando a pilha novamente, e é assim sucessivamente\n",
        "\n",
        "removendo_ultimo_elemento = pilha.pop() # pop() sempre remove o ultimo elemento\n",
        "print(removendo_ultimo_elemento)\n",
        "\n",
        "print(pilha)\n"
      ],
      "metadata": {
        "colab": {
          "base_uri": "https://localhost:8080/"
        },
        "id": "6zElzA-qh7r2",
        "outputId": "ce9f2607-cf25-4389-8f7d-671ff1d34b96"
      },
      "execution_count": null,
      "outputs": [
        {
          "output_type": "stream",
          "name": "stdout",
          "text": [
            "['Esdras', 'PH', 'Neguim', 'Renato', 'Kevin', 'Vitin Amador', 'Dos Pode']\n",
            "Ultimo elemento: Dos Pode\n",
            "Pilha atualizada\n",
            "['Esdras', 'PH', 'Neguim', 'Renato', 'Kevin', 'Vitin Amador']\n",
            "Vitin Amador\n",
            "['Esdras', 'PH', 'Neguim', 'Renato', 'Kevin']\n"
          ]
        }
      ]
    },
    {
      "cell_type": "markdown",
      "source": [
        "# Filas"
      ],
      "metadata": {
        "id": "8A9pMpAorl2d"
      }
    },
    {
      "cell_type": "code",
      "source": [
        "''' FIFO = First In, First Out\n",
        "O primeiro elemento que entra é o primeiro a sair'''\n",
        "\n",
        "# Filas é um pouco complexo pois exige Função mas é dboa\n",
        "\n",
        "# Em Filas não é muito connvencional utilizar listas , vamos utilizar deque\n",
        "\n",
        "from collections import deque  # Importando deque para usar como fila\n",
        "\n",
        "fila_de_motos = deque() # Criando fila com deque\n",
        "\n",
        "def adicionar_moto(fila, moto): # Usando função para adiconar as motos\n",
        "    fila.append(moto)\n",
        "\n",
        "adicionar_moto(fila_de_motos, \"Honda 250\")  # chamando função de acordo com os parametros\n",
        "adicionar_moto(fila_de_motos, \"Fan 160\")\n",
        "adicionar_moto(fila_de_motos, \"BMW 650\")\n",
        "\n",
        "print(\"Lista de atualizada de motos\")\n",
        "print(fila_de_motos)\n",
        "\n",
        "def primeiro_elemento(fila):        # Nessa parte vamos remover o primeiro pedido que no caso é a Honda 250 , ela foi a primeira a entrar então vai ser\n",
        "    return fila_de_motos.popleft()  # a primeira a sair , popleft serve pra isso\n",
        "\n",
        "resultado = primeiro_elemento(fila_de_motos)\n",
        "print(resultado)\n",
        "\n",
        "print('Fila atualizada')\n",
        "print(fila_de_motos)\n",
        "\n",
        "\n",
        "# vamos verificar se a fila está vazia\n",
        "\n",
        "def fila_vazia(fila):\n",
        "    return len(fila_de_motos) == 0\n",
        "\n",
        "fila_vazia_ou_cheia = fila_vazia(fila_de_motos)  # Irá retornar False , pois ainda tem duas motos\n",
        "print(fila_vazia_ou_cheia)"
      ],
      "metadata": {
        "colab": {
          "base_uri": "https://localhost:8080/"
        },
        "id": "4_y8Grutrp6O",
        "outputId": "97ea55c8-b260-45a9-fe70-5e7f1fa19abf"
      },
      "execution_count": null,
      "outputs": [
        {
          "output_type": "stream",
          "name": "stdout",
          "text": [
            "Lista de atualizada de motos\n",
            "deque(['Honda 250', 'Fan 160', 'BMW 650'])\n",
            "Honda 250\n",
            "Fila atualizada\n",
            "deque(['Fan 160', 'BMW 650'])\n",
            "False\n"
          ]
        }
      ]
    }
  ]
}